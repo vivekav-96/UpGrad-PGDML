{
 "cells": [
  {
   "cell_type": "markdown",
   "metadata": {},
   "source": [
    "# Investment Assignment\n",
    "\n",
    "Data Analysis to find the best suitable Investment Horizon for **Spark Funds**\n",
    "\n",
    "## 1. Investment Type Analysis\n",
    "\n",
    "Finding the Best Investment Type for Spark Funds"
   ]
  },
  {
   "cell_type": "code",
   "execution_count": null,
   "metadata": {},
   "outputs": [],
   "source": [
    "import pandas"
   ]
  },
  {
   "cell_type": "markdown",
   "metadata": {},
   "source": [
    "Loading the **rounds2.csv** file using pandas. \n",
    "The length of the column **company_permalink** must be the number of unique companies in it."
   ]
  },
  {
   "cell_type": "code",
   "execution_count": null,
   "metadata": {},
   "outputs": [],
   "source": [
    "rounds2 = pandas.read_csv('rounds2.csv', sep=',', encoding='unicode_escape')\n",
    "rounds2_permalinks = rounds2['company_permalink'].str.lower()\n",
    "rounds2_unique_permalinks = set(rounds2_permalinks)\n",
    "print(f'Length of rounds2 Unique permalink : {len(rounds2_unique_permalinks)}')"
   ]
  },
  {
   "cell_type": "markdown",
   "metadata": {},
   "source": [
    "Repeating the same steps above for **companies.csv**"
   ]
  },
  {
   "cell_type": "code",
   "execution_count": null,
   "metadata": {},
   "outputs": [],
   "source": [
    "companies = pandas.read_csv('companies.csv', sep='\\t', encoding='unicode_escape')\n",
    "companies_permalinks = companies['permalink'].str.lower()\n",
    "companies_unique_permalinks = set(companies_permalinks)\n",
    "print(f'Length of comapnies Unique permalinks : {len(companies_unique_permalinks)}')"
   ]
  },
  {
   "cell_type": "code",
   "execution_count": null,
   "metadata": {},
   "outputs": [],
   "source": [
    "difference = rounds2_unique_permalinks.difference(companies_unique_permalinks)   # set difference\n",
    "print(f'Number of companies that are NOT in companies.csv but in rounds2.csv = {len(difference)}')"
   ]
  },
  {
   "cell_type": "markdown",
   "metadata": {},
   "source": [
    "Converting every value to lower case of column **company_permalink** of rounds2 and renaming as **permalink**"
   ]
  },
  {
   "cell_type": "code",
   "execution_count": null,
   "metadata": {},
   "outputs": [],
   "source": [
    "rounds2['company_permalink'] = rounds2['company_permalink'].str.lower()\n",
    "rounds2 = rounds2.rename({'company_permalink': 'permalink'}, axis=1)\n",
    "rounds2.head()"
   ]
  },
  {
   "cell_type": "markdown",
   "metadata": {},
   "source": [
    "Converting every value to lower case of column **permalink** of companies."
   ]
  },
  {
   "cell_type": "code",
   "execution_count": null,
   "metadata": {},
   "outputs": [],
   "source": [
    "companies['permalink'] = companies['permalink'].str.lower()\n",
    "companies.head()"
   ]
  },
  {
   "cell_type": "markdown",
   "metadata": {},
   "source": [
    "Merging the two dataframes together as **master**"
   ]
  },
  {
   "cell_type": "code",
   "execution_count": null,
   "metadata": {},
   "outputs": [],
   "source": [
    "companies.set_index(['permalink'])\n",
    "rounds2.set_index(['permalink'])\n",
    "master = pandas.merge(companies, rounds2,how='inner', on='permalink')\n",
    "master.head()"
   ]
  },
  {
   "cell_type": "code",
   "execution_count": null,
   "metadata": {},
   "outputs": [],
   "source": [
    "print(f'Number of records in master dataframe = {len(master)}')"
   ]
  },
  {
   "cell_type": "markdown",
   "metadata": {},
   "source": [
    "Finding **The most representing value** for the following fund types.\n",
    "1. Venture fund\n",
    "2. Angel fund\n",
    "3. Seed fund\n",
    "4. Private Equity fund.\n",
    "\n",
    "Note : All values are rounded off to two decimal places."
   ]
  },
  {
   "cell_type": "code",
   "execution_count": null,
   "metadata": {},
   "outputs": [],
   "source": [
    "venture_fund_mean = master.loc[master.funding_round_type=='venture'].raised_amount_usd.mean()\n",
    "angel_fund_mean = master.loc[master.funding_round_type=='angel'].raised_amount_usd.mean()\n",
    "seed_fund_mean = master.loc[master.funding_round_type=='seed'].raised_amount_usd.mean()\n",
    "private_equity_fund_mean = master.loc[master.funding_round_type=='private_equity'].raised_amount_usd.mean()\n",
    "\n",
    "print(f'Venture fund average : {round(venture_fund_mean, 2)}')\n",
    "print(f'Angel fund average : {round(angel_fund_mean, 2)}')\n",
    "print(f'Seed fund average : {round(seed_fund_mean, 2)}')\n",
    "print(f'Private Equity fund average : {round(private_equity_fund_mean, 2)}')"
   ]
  },
  {
   "cell_type": "markdown",
   "metadata": {},
   "source": [
    "**Since Spark Funds is ready to Invest between 5 to 10 million USD, _Venture Funding Type_ looks most suitable for them**\n",
    "\n",
    "## 2. Country Analysis\n",
    "\n",
    "From now, We'll use only venture type investment data for further analysis."
   ]
  },
  {
   "cell_type": "code",
   "execution_count": null,
   "metadata": {},
   "outputs": [],
   "source": [
    "master = master.loc[master.funding_round_type=='venture']\n",
    "master.head()"
   ]
  },
  {
   "cell_type": "markdown",
   "metadata": {},
   "source": [
    "The Top 9 Countries with **Highest Total Venture Funding** is listed below."
   ]
  },
  {
   "cell_type": "code",
   "execution_count": null,
   "metadata": {},
   "outputs": [],
   "source": [
    "highest_funded_countries = master.groupby(['country_code'])['raised_amount_usd'].sum()\n",
    "highest_funded_countries = highest_funded_countries.sort_values(ascending=False).iloc[:9]\n",
    "highest_funded_countries"
   ]
  },
  {
   "cell_type": "markdown",
   "metadata": {},
   "source": [
    "Creating a new dataframe **top9** with details of Venture funding data in the top 9 countries."
   ]
  },
  {
   "cell_type": "code",
   "execution_count": null,
   "metadata": {},
   "outputs": [],
   "source": [
    "top9 = master.loc[master['country_code'].apply(lambda x: x in highest_funded_countries)]\n",
    "top9.head(10)"
   ]
  },
  {
   "cell_type": "markdown",
   "metadata": {},
   "source": [
    "## 3. Sector Analysis"
   ]
  },
  {
   "cell_type": "markdown",
   "metadata": {},
   "source": [
    "Let's read the **mapping.csv** file into a dataframe and see how it looks."
   ]
  },
  {
   "cell_type": "code",
   "execution_count": null,
   "metadata": {
    "scrolled": true
   },
   "outputs": [],
   "source": [
    "mapping_raw = pandas.read_csv('mapping.csv', index_col='category_list')\n",
    "mapping_raw.head()"
   ]
  },
  {
   "cell_type": "markdown",
   "metadata": {},
   "source": [
    "Let's reverse the one-hot encoding for an easier analysis"
   ]
  },
  {
   "cell_type": "code",
   "execution_count": null,
   "metadata": {},
   "outputs": [],
   "source": [
    "mapping = pandas.DataFrame(pandas.get_dummies(mapping_raw).idxmax(1))\n",
    "mapping.columns = ['main_sector']\n",
    "mapping.index.names = ['primary_sector']\n",
    "mapping.head()"
   ]
  },
  {
   "cell_type": "markdown",
   "metadata": {},
   "source": [
    "Since we've discussed with the CEO and formed a business rule that **the first string before the vertical bar will be considered the primary sector**, we'll ignore the rest of the values in the **category_list** column in the master dataframe. We'll edit the master dataframe such that the primary sector according to the business rule will be there in the new column **primary_sector**."
   ]
  },
  {
   "cell_type": "code",
   "execution_count": null,
   "metadata": {},
   "outputs": [],
   "source": [
    "master.category_list = master.category_list.astype(str)\n",
    "master['primary_sector'] = master.category_list.apply(lambda x: x.split('|')[0])\n",
    "master.head()"
   ]
  },
  {
   "cell_type": "markdown",
   "metadata": {},
   "source": [
    "Now let's merge the master data with the mapping data"
   ]
  },
  {
   "cell_type": "code",
   "execution_count": null,
   "metadata": {},
   "outputs": [],
   "source": [
    "master = pandas.merge(master, mapping, how='inner', on='primary_sector')\n",
    "master.head(10)"
   ]
  },
  {
   "cell_type": "markdown",
   "metadata": {},
   "source": [
    "Now we have the master dataframe with two additional columns **primary_sector** and **main_sector**. We can do detailed analysis with respect to sectors which the startups work in."
   ]
  }
 ],
 "metadata": {
  "kernelspec": {
   "display_name": "Python 3",
   "language": "python",
   "name": "python3"
  },
  "language_info": {
   "codemirror_mode": {
    "name": "ipython",
    "version": 3
   },
   "file_extension": ".py",
   "mimetype": "text/x-python",
   "name": "python",
   "nbconvert_exporter": "python",
   "pygments_lexer": "ipython3",
   "version": "3.7.5"
  }
 },
 "nbformat": 4,
 "nbformat_minor": 2
}
